{
 "cells": [
  {
   "cell_type": "markdown",
   "id": "0a8cdc9d",
   "metadata": {},
   "source": [
    "# Numpy패키지와 배열(ndarray) 객체"
   ]
  },
  {
   "cell_type": "code",
   "execution_count": 12,
   "id": "c5ecd37a",
   "metadata": {},
   "outputs": [],
   "source": [
    "import numpy as np"
   ]
  },
  {
   "cell_type": "code",
   "execution_count": 13,
   "id": "a718f9c8",
   "metadata": {},
   "outputs": [
    {
     "data": {
      "text/plain": [
       "array([1, 4, 2, 5, 3])"
      ]
     },
     "execution_count": 13,
     "metadata": {},
     "output_type": "execute_result"
    }
   ],
   "source": [
    "np.array([1,4,2,5,3])"
   ]
  },
  {
   "cell_type": "markdown",
   "id": "9bfa82c6",
   "metadata": {},
   "source": [
    "배열 객체 생성 array함수 이용"
   ]
  },
  {
   "cell_type": "markdown",
   "id": "52e4e092",
   "metadata": {},
   "source": [
    "array는 동질의 데이터를 다룰 수 있는 구조"
   ]
  },
  {
   "cell_type": "markdown",
   "id": "bc3494a2",
   "metadata": {},
   "source": [
    "빠르다"
   ]
  },
  {
   "cell_type": "code",
   "execution_count": 31,
   "id": "4cf8db71",
   "metadata": {},
   "outputs": [
    {
     "data": {
      "text/plain": [
       "array([1., 2., 3., 4.])"
      ]
     },
     "execution_count": 31,
     "metadata": {},
     "output_type": "execute_result"
    }
   ],
   "source": [
    "np.array([1,2,3,4], dtype=np.float) #데이터 타입 지정 가능"
   ]
  },
  {
   "cell_type": "code",
   "execution_count": 32,
   "id": "26b27476",
   "metadata": {},
   "outputs": [
    {
     "data": {
      "text/plain": [
       "array([[1, 2, 3],\n",
       "       [4, 5, 6],\n",
       "       [7, 8, 9]])"
      ]
     },
     "execution_count": 32,
     "metadata": {},
     "output_type": "execute_result"
    }
   ],
   "source": [
    "np.array([range(i, i + 3 ) for i in [1, 4, 7]])"
   ]
  },
  {
   "cell_type": "markdown",
   "id": "c38d678d",
   "metadata": {},
   "source": [
    "---\n",
    "numpy는 기본적으로 초기화 가능한 여러가지 함수 제공\n",
    "---"
   ]
  },
  {
   "cell_type": "code",
   "execution_count": 44,
   "id": "be6a9844",
   "metadata": {},
   "outputs": [
    {
     "data": {
      "text/plain": [
       "array([0., 0., 0., 0., 0., 0., 0., 0., 0., 0.])"
      ]
     },
     "execution_count": 44,
     "metadata": {},
     "output_type": "execute_result"
    }
   ],
   "source": [
    "np.zeros(10) #1차원"
   ]
  },
  {
   "cell_type": "code",
   "execution_count": 41,
   "id": "0a32a0f4",
   "metadata": {},
   "outputs": [
    {
     "data": {
      "text/plain": [
       "array([[1., 1., 1., 1., 1.],\n",
       "       [1., 1., 1., 1., 1.],\n",
       "       [1., 1., 1., 1., 1.]])"
      ]
     },
     "execution_count": 41,
     "metadata": {},
     "output_type": "execute_result"
    }
   ],
   "source": [
    "np.ones((3, 5)) #3행 5열 튜플 구조를 만들고 1로 채워지는 ones"
   ]
  },
  {
   "cell_type": "code",
   "execution_count": 45,
   "id": "1eef6320",
   "metadata": {},
   "outputs": [
    {
     "data": {
      "text/plain": [
       "array([[5, 5, 5],\n",
       "       [5, 5, 5]])"
      ]
     },
     "execution_count": 45,
     "metadata": {},
     "output_type": "execute_result"
    }
   ],
   "source": [
    "np.full((2,3), 5)#2행 3열을 5로 채운다 초기값을 임의로 설정해 채우는 full"
   ]
  },
  {
   "cell_type": "code",
   "execution_count": 46,
   "id": "9ab2a840",
   "metadata": {},
   "outputs": [
    {
     "data": {
      "text/plain": [
       "array([0, 2, 4, 6, 8])"
      ]
     },
     "execution_count": 46,
     "metadata": {},
     "output_type": "execute_result"
    }
   ],
   "source": [
    "np.arange(0,10,2) #start,end,step"
   ]
  },
  {
   "cell_type": "markdown",
   "id": "d85769d9",
   "metadata": {},
   "source": [
    "np.arange는 배열을 생성한다."
   ]
  },
  {
   "cell_type": "code",
   "execution_count": 52,
   "id": "b8656d96",
   "metadata": {},
   "outputs": [
    {
     "data": {
      "text/plain": [
       "array([  0,  25,  50,  75, 100])"
      ]
     },
     "execution_count": 52,
     "metadata": {},
     "output_type": "execute_result"
    }
   ],
   "source": [
    "np.linspace(0, 100, 5, dtype=int)"
   ]
  },
  {
   "cell_type": "markdown",
   "id": "4975be10",
   "metadata": {},
   "source": [
    "균등하게 interval을 구성할 수 있는 linspace\n",
    "0 ~ 100 사이의 구간을 5개로 쪼개 4개의 구간이 생긴다"
   ]
  },
  {
   "cell_type": "markdown",
   "id": "57bdc28e",
   "metadata": {},
   "source": [
    "---\n",
    "### 난수와 관련된 부분 \n",
    "- 데이터 모의 구성 시 많이 사용하는 random 함수, 중요\n",
    "--- "
   ]
  },
  {
   "cell_type": "code",
   "execution_count": 54,
   "id": "263c5f53",
   "metadata": {},
   "outputs": [
    {
     "data": {
      "text/plain": [
       "array([[0.54448513, 0.20655363, 0.27605678],\n",
       "       [0.96436019, 0.98215717, 0.94029886],\n",
       "       [0.810346  , 0.65445338, 0.15666951]])"
      ]
     },
     "execution_count": 54,
     "metadata": {},
     "output_type": "execute_result"
    }
   ],
   "source": [
    "np.random.random((3, 3)) # 3,3 -> size 3행 3열 부여"
   ]
  },
  {
   "cell_type": "markdown",
   "id": "c47fced0",
   "metadata": {},
   "source": [
    "random은 0 ~ 1 사이의 값을 데이터로 구성한다"
   ]
  },
  {
   "cell_type": "code",
   "execution_count": 55,
   "id": "51099775",
   "metadata": {},
   "outputs": [
    {
     "data": {
      "text/plain": [
       "array([[2, 1, 2],\n",
       "       [4, 8, 3],\n",
       "       [8, 8, 5]])"
      ]
     },
     "execution_count": 55,
     "metadata": {},
     "output_type": "execute_result"
    }
   ],
   "source": [
    "np.random.randint(0, 10,(3,3))"
   ]
  },
  {
   "cell_type": "markdown",
   "id": "f1f669ab",
   "metadata": {},
   "source": [
    "randint는 범위를 제공 0 ~ 9 까지의 정수 값을 3행 3열의 사이즈로 구성"
   ]
  },
  {
   "cell_type": "code",
   "execution_count": 56,
   "id": "9c0f443d",
   "metadata": {},
   "outputs": [
    {
     "data": {
      "text/plain": [
       "array([[-0.26462729, -0.07542389,  0.05377471],\n",
       "       [-0.4820436 ,  1.71825651, -0.35741326],\n",
       "       [ 0.14845852,  0.84296118, -1.05769372]])"
      ]
     },
     "execution_count": 56,
     "metadata": {},
     "output_type": "execute_result"
    }
   ],
   "source": [
    "np.random.normal(0,1, (3,3))"
   ]
  },
  {
   "cell_type": "markdown",
   "id": "c0b9c52a",
   "metadata": {},
   "source": [
    "normal은 정규분포를 나타낸다.종형 형태 0은 평균 1은 표준 편차  3행3열의 random 데이터"
   ]
  },
  {
   "cell_type": "markdown",
   "id": "ab95e302",
   "metadata": {},
   "source": [
    "---\n",
    "### 랜덤 값의 재현성 문제\n",
    "seed 함수에 seed 값을 주면 재현성 문제 해결"
   ]
  },
  {
   "cell_type": "code",
   "execution_count": 62,
   "id": "390d8275",
   "metadata": {},
   "outputs": [
    {
     "name": "stdout",
     "output_type": "stream",
     "text": [
      "arr1:\n",
      "[8 9 3 8 8 0]\n",
      "ndim: 1, shape: (6,), size: 6, dtpye: int32\n",
      "\n",
      "arr2:\n",
      "[[5 3 9]\n",
      " [9 5 7]]\n",
      "ndim: 2, shape: (2, 3), size: 6, dtpye: int32\n",
      "\n"
     ]
    }
   ],
   "source": [
    "np.random.seed(3)\n",
    "\n",
    "arr1 = np.random.randint(10, size = 6) #아무것도 없으면 0 즉 start 0 end 10 정수 6개\n",
    "arr2 = np.random.randint(10, size = (2,3))# 위와 같지만 2행 3열의 구조 정수 6개\n",
    "\n",
    "print(\"arr1:\\n%s\" %arr1)\n",
    "print(\"ndim: %d, shape: %s, size: %d, dtpye: %s\\n\" %\n",
    "      (arr1.ndim, arr1.shape, arr1.size, arr1.dtype))\n",
    "print(\"arr2:\\n%s\" %arr2)\n",
    "print(\"ndim: %d, shape: %s, size: %d, dtpye: %s\\n\" %\n",
    "      (arr2.ndim, arr2.shape, arr2.size, arr2.dtype))"
   ]
  },
  {
   "cell_type": "markdown",
   "id": "6787ca66",
   "metadata": {},
   "source": [
    "randint를 랜덤하게 만든 arr1,arr2  \n",
    "ndim(차원 정보), shape(행/열, 원소의 구조 정보)  \n",
    "size(원소의 개수), dtpye(data type)을 나타냄  \n",
    "가장 중요한 정보는 shape -> 원소의 개수와 차원의 정보를 알 수 있다"
   ]
  },
  {
   "cell_type": "markdown",
   "id": "21d0f44f",
   "metadata": {},
   "source": [
    "---\n",
    "### NumPy 배열 객체의 인덱싱\n",
    "- 단일 원소에 접근하는 기법"
   ]
  },
  {
   "cell_type": "code",
   "execution_count": 63,
   "id": "41450d6f",
   "metadata": {},
   "outputs": [
    {
     "data": {
      "text/plain": [
       "array([8, 9, 3, 8, 8, 0])"
      ]
     },
     "execution_count": 63,
     "metadata": {},
     "output_type": "execute_result"
    }
   ],
   "source": [
    "arr1"
   ]
  },
  {
   "cell_type": "code",
   "execution_count": 64,
   "id": "6ec56cb9",
   "metadata": {},
   "outputs": [
    {
     "data": {
      "text/plain": [
       "(8, 0)"
      ]
     },
     "execution_count": 64,
     "metadata": {},
     "output_type": "execute_result"
    }
   ],
   "source": [
    "arr1[0], arr1[5] #6개의 원소 0 ~ 5까지"
   ]
  },
  {
   "cell_type": "code",
   "execution_count": 65,
   "id": "28fc04a5",
   "metadata": {},
   "outputs": [
    {
     "data": {
      "text/plain": [
       "(9, 0)"
      ]
     },
     "execution_count": 65,
     "metadata": {},
     "output_type": "execute_result"
    }
   ],
   "source": [
    "arr1[-5], arr1[-1] #음수를 이용하는 인덱싱 -1 ~ -6까지 "
   ]
  },
  {
   "cell_type": "markdown",
   "id": "d34005ce",
   "metadata": {},
   "source": [
    "음수를 이용하는 인덱싱은 마지막 데이터 접근 용이"
   ]
  },
  {
   "cell_type": "code",
   "execution_count": 67,
   "id": "9f8e4632",
   "metadata": {},
   "outputs": [
    {
     "data": {
      "text/plain": [
       "array([[5, 3, 9],\n",
       "       [9, 5, 7]])"
      ]
     },
     "execution_count": 67,
     "metadata": {},
     "output_type": "execute_result"
    }
   ],
   "source": [
    "arr2 # shape 2행 3열 2차원의 접근법을 알아보자"
   ]
  },
  {
   "cell_type": "code",
   "execution_count": 68,
   "id": "d9ddd0dd",
   "metadata": {},
   "outputs": [
    {
     "data": {
      "text/plain": [
       "(5, 9)"
      ]
     },
     "execution_count": 68,
     "metadata": {},
     "output_type": "execute_result"
    }
   ],
   "source": [
    "arr2[0,0],arr2[0,2] # [행,열]를 사용해 행/열 인덱스 정보 기술"
   ]
  },
  {
   "cell_type": "code",
   "execution_count": 70,
   "id": "8fe3b398",
   "metadata": {},
   "outputs": [
    {
     "data": {
      "text/plain": [
       "(9, 5)"
      ]
     },
     "execution_count": 70,
     "metadata": {},
     "output_type": "execute_result"
    }
   ],
   "source": [
    "arr2[-1,-3], arr2[-1,1] # -1은 마지막행 "
   ]
  },
  {
   "cell_type": "code",
   "execution_count": 72,
   "id": "2a381b7e",
   "metadata": {},
   "outputs": [
    {
     "data": {
      "text/plain": [
       "array([[9, 3, 9],\n",
       "       [9, 5, 7]])"
      ]
     },
     "execution_count": 72,
     "metadata": {},
     "output_type": "execute_result"
    }
   ],
   "source": [
    "arr2[0,0] = 9\n",
    "arr2 #1행 1열의 5개 9로 바뀜 -> 새로운 값 지정 가능"
   ]
  },
  {
   "cell_type": "markdown",
   "id": "c4178532",
   "metadata": {},
   "source": [
    "---\n",
    "### NumPy 배열 객체의 슬라이싱\n",
    "- 부분집합을 꺼내준다 :의 연산자를 이용해 슬라이싱 한다\n",
    "- start:end:step\n",
    "---"
   ]
  },
  {
   "cell_type": "code",
   "execution_count": 74,
   "id": "88df498d",
   "metadata": {},
   "outputs": [
    {
     "data": {
      "text/plain": [
       "array([0, 1, 2, 3, 4, 5, 6, 7, 8, 9])"
      ]
     },
     "execution_count": 74,
     "metadata": {},
     "output_type": "execute_result"
    }
   ],
   "source": [
    "arr1 = np.arange(10)\n",
    "arr1"
   ]
  },
  {
   "cell_type": "code",
   "execution_count": 75,
   "id": "d9b026c5",
   "metadata": {},
   "outputs": [
    {
     "data": {
      "text/plain": [
       "array([0, 1, 2, 3, 4])"
      ]
     },
     "execution_count": 75,
     "metadata": {},
     "output_type": "execute_result"
    }
   ],
   "source": [
    "arr1[0:5:1] #start0:end5:step1 배열의 부분집합 추출"
   ]
  },
  {
   "cell_type": "code",
   "execution_count": 76,
   "id": "a941199c",
   "metadata": {},
   "outputs": [
    {
     "data": {
      "text/plain": [
       "array([0, 1, 2, 3, 4])"
      ]
     },
     "execution_count": 76,
     "metadata": {},
     "output_type": "execute_result"
    }
   ],
   "source": [
    "arr1[:5:1]#start의 0은 생략 가능"
   ]
  },
  {
   "cell_type": "code",
   "execution_count": 77,
   "id": "e6dd981a",
   "metadata": {},
   "outputs": [
    {
     "data": {
      "text/plain": [
       "array([0, 1, 2, 3, 4])"
      ]
     },
     "execution_count": 77,
     "metadata": {},
     "output_type": "execute_result"
    }
   ],
   "source": [
    "arr1[:5:]#step의 1도 생략 가능"
   ]
  },
  {
   "cell_type": "code",
   "execution_count": 79,
   "id": "414c85e1",
   "metadata": {},
   "outputs": [
    {
     "data": {
      "text/plain": [
       "array([0, 1, 2, 3, 4])"
      ]
     },
     "execution_count": 79,
     "metadata": {},
     "output_type": "execute_result"
    }
   ],
   "source": [
    "arr1[:5] #end는 반드시 있어야 한다"
   ]
  },
  {
   "cell_type": "markdown",
   "id": "76db1c55",
   "metadata": {},
   "source": [
    "비어 있는 슬라이싱 연산자 사용 시  \n",
    "전체집합을 부분집합으로 반환"
   ]
  },
  {
   "cell_type": "code",
   "execution_count": 80,
   "id": "db50f93f",
   "metadata": {},
   "outputs": [
    {
     "data": {
      "text/plain": [
       "(array([2, 4, 6, 8]), array([2, 4, 6, 8]))"
      ]
     },
     "execution_count": 80,
     "metadata": {},
     "output_type": "execute_result"
    }
   ],
   "source": [
    "arr1[2:9:2], arr1[2::2] # 2~8까지 step2, 2~끝까지 step2"
   ]
  },
  {
   "cell_type": "code",
   "execution_count": 81,
   "id": "f6811134",
   "metadata": {},
   "outputs": [
    {
     "data": {
      "text/plain": [
       "array([9, 8, 7, 6, 5, 4, 3, 2, 1, 0])"
      ]
     },
     "execution_count": 81,
     "metadata": {},
     "output_type": "execute_result"
    }
   ],
   "source": [
    "arr1[::-1]# -1 step은 거꾸로 출력"
   ]
  },
  {
   "cell_type": "code",
   "execution_count": 88,
   "id": "c6f151e5",
   "metadata": {},
   "outputs": [
    {
     "data": {
      "text/plain": [
       "array([9, 8, 7, 6, 5, 4, 3, 2, 1, 0])"
      ]
     },
     "execution_count": 88,
     "metadata": {},
     "output_type": "execute_result"
    }
   ],
   "source": [
    "arr1[-1:-11:-1] # -11이 포함이 되지 않으므로 9 ~ 0까지 출력 -1 == 9"
   ]
  },
  {
   "cell_type": "code",
   "execution_count": 83,
   "id": "bb37d3c3",
   "metadata": {},
   "outputs": [
    {
     "data": {
      "text/plain": [
       "array([5, 4, 3, 2, 1, 0])"
      ]
     },
     "execution_count": 83,
     "metadata": {},
     "output_type": "execute_result"
    }
   ],
   "source": [
    "arr1[5::-1]#end만 불포함 start는 포함 즉 5부터 거꾸로 끝까지"
   ]
  },
  {
   "cell_type": "code",
   "execution_count": 91,
   "id": "00fae5ac",
   "metadata": {},
   "outputs": [
    {
     "data": {
      "text/plain": [
       "array([[ 0,  1,  2,  3],\n",
       "       [ 4,  5,  6,  7],\n",
       "       [ 8,  9, 10, 11]])"
      ]
     },
     "execution_count": 91,
     "metadata": {},
     "output_type": "execute_result"
    }
   ],
   "source": [
    "arr2 = np.arange(12).reshape(-1,4)# 0~11까지의 배열을 reshape(행/열 변환)\n",
    "                                    # -1은 행이 정해지지 않았다 (행정보) 4는 열정보\n",
    "                                    #즉 0~11까지의 원소를 4열을 만드니 3행이 나옴\n",
    "arr2"
   ]
  },
  {
   "cell_type": "code",
   "execution_count": 95,
   "id": "e7acc90c",
   "metadata": {},
   "outputs": [
    {
     "data": {
      "text/plain": [
       "array([[ 0,  1,  2,  3],\n",
       "       [ 4,  5,  6,  7],\n",
       "       [ 8,  9, 10, 11]])"
      ]
     },
     "execution_count": 95,
     "metadata": {},
     "output_type": "execute_result"
    }
   ],
   "source": [
    "arr2[:3, :4] # == 행정보  0:3:1, 열정보 0:4:1 전체의 배열을 부분 집합으로 추출"
   ]
  },
  {
   "cell_type": "code",
   "execution_count": 96,
   "id": "119266ac",
   "metadata": {},
   "outputs": [
    {
     "data": {
      "text/plain": [
       "array([[ 0,  1,  2,  3],\n",
       "       [ 4,  5,  6,  7],\n",
       "       [ 8,  9, 10, 11]])"
      ]
     },
     "execution_count": 96,
     "metadata": {},
     "output_type": "execute_result"
    }
   ],
   "source": [
    "arr2[:,:] #전체 집합을 부분집합으로 추출하는 제일 쉬운 방법"
   ]
  },
  {
   "cell_type": "code",
   "execution_count": 97,
   "id": "61fac2c7",
   "metadata": {},
   "outputs": [
    {
     "data": {
      "text/plain": [
       "array([[0, 1, 2],\n",
       "       [4, 5, 6]])"
      ]
     },
     "execution_count": 97,
     "metadata": {},
     "output_type": "execute_result"
    }
   ],
   "source": [
    "arr2[:2,:3]#행 0,1 열0,1,2 전체배열에서 2X3구조의 부분집합 추출"
   ]
  },
  {
   "cell_type": "code",
   "execution_count": 98,
   "id": "006acc05",
   "metadata": {},
   "outputs": [
    {
     "data": {
      "text/plain": [
       "array([[2, 1, 0],\n",
       "       [6, 5, 4]])"
      ]
     },
     "execution_count": 98,
     "metadata": {},
     "output_type": "execute_result"
    }
   ],
   "source": [
    "arr2[:2,2::-1] #행0,1 열2,3을 거꾸로 "
   ]
  },
  {
   "cell_type": "code",
   "execution_count": 100,
   "id": "3a087a4e",
   "metadata": {},
   "outputs": [
    {
     "data": {
      "text/plain": [
       "array([ 7, 11])"
      ]
     },
     "execution_count": 100,
     "metadata": {},
     "output_type": "execute_result"
    }
   ],
   "source": [
    "arr2[1:,-1] # 1,2행의 -1열의 3,7,11 중 0행의 3이 빠진 7,11"
   ]
  },
  {
   "cell_type": "code",
   "execution_count": 102,
   "id": "186928e0",
   "metadata": {},
   "outputs": [
    {
     "data": {
      "text/plain": [
       "(array([ 8,  9, 10, 11]), array([ 8,  9, 10, 11]))"
      ]
     },
     "execution_count": 102,
     "metadata": {},
     "output_type": "execute_result"
    }
   ],
   "source": [
    "arr2[-1, :], arr2[-1]#마지막행의 모든 열"
   ]
  },
  {
   "cell_type": "markdown",
   "id": "8c47cd15",
   "metadata": {},
   "source": [
    "---\n",
    "### NumPy 배열 객체의 연결\n",
    "- concatenate를 이용해 행과 열로 연결해 사용할 수 있다\n",
    "- list안에 담아 전달 할 것 []\n",
    "- axis라는 파라미터를 이용해 방향 지정 (축)\n",
    "---"
   ]
  },
  {
   "cell_type": "code",
   "execution_count": 103,
   "id": "6d38daa4",
   "metadata": {},
   "outputs": [],
   "source": [
    "list1 = [1,2,3]\n",
    "list2 = [4,5,6]"
   ]
  },
  {
   "cell_type": "code",
   "execution_count": 104,
   "id": "8af97bd4",
   "metadata": {},
   "outputs": [
    {
     "data": {
      "text/plain": [
       "array([1, 2, 3, 4, 5, 6])"
      ]
     },
     "execution_count": 104,
     "metadata": {},
     "output_type": "execute_result"
    }
   ],
   "source": [
    "np.concatenate([list1,list2])"
   ]
  },
  {
   "cell_type": "code",
   "execution_count": 111,
   "id": "d8ca01f5",
   "metadata": {
    "scrolled": true
   },
   "outputs": [
    {
     "data": {
      "text/plain": [
       "array([1, 2, 3, 4, 5, 6])"
      ]
     },
     "execution_count": 111,
     "metadata": {},
     "output_type": "execute_result"
    }
   ],
   "source": [
    "arr1 = np.concatenate([list1,list2], axis=0)\n",
    "arr1"
   ]
  },
  {
   "cell_type": "code",
   "execution_count": 112,
   "id": "95492075",
   "metadata": {},
   "outputs": [
    {
     "data": {
      "text/plain": [
       "array([[1, 2, 3],\n",
       "       [4, 5, 6]])"
      ]
     },
     "execution_count": 112,
     "metadata": {},
     "output_type": "execute_result"
    }
   ],
   "source": [
    "arr2 = arr1.reshape(-1,3) #reshape을 써서 2행 3열 구조로 변환\n",
    "arr2"
   ]
  },
  {
   "cell_type": "code",
   "execution_count": 115,
   "id": "be07d1e3",
   "metadata": {},
   "outputs": [
    {
     "data": {
      "text/plain": [
       "array([[1, 2, 3],\n",
       "       [4, 5, 6],\n",
       "       [1, 2, 3],\n",
       "       [4, 5, 6]])"
      ]
     },
     "execution_count": 115,
     "metadata": {},
     "output_type": "execute_result"
    }
   ],
   "source": [
    "np.concatenate([arr2,arr2], axis=0) #2차원 배열구조의 axis=0일 경우 행이 합쳐짐"
   ]
  },
  {
   "cell_type": "code",
   "execution_count": 117,
   "id": "d4b66f31",
   "metadata": {},
   "outputs": [
    {
     "data": {
      "text/plain": [
       "array([[1, 2, 3, 1, 2, 3],\n",
       "       [4, 5, 6, 4, 5, 6]])"
      ]
     },
     "execution_count": 117,
     "metadata": {},
     "output_type": "execute_result"
    }
   ],
   "source": [
    "np.concatenate([arr2,arr2], axis=1)#2차원 배열구조의 axis=1일 경우 열이 합쳐짐"
   ]
  },
  {
   "cell_type": "code",
   "execution_count": 118,
   "id": "eabbce82",
   "metadata": {},
   "outputs": [
    {
     "data": {
      "text/plain": [
       "array([[1, 2, 3],\n",
       "       [4, 5, 6],\n",
       "       [1, 2, 3],\n",
       "       [4, 5, 6]])"
      ]
     },
     "execution_count": 118,
     "metadata": {},
     "output_type": "execute_result"
    }
   ],
   "source": [
    "np.vstack([arr2,arr2]) #Vstack(verticals stack) = axis0"
   ]
  },
  {
   "cell_type": "code",
   "execution_count": 119,
   "id": "05d267e6",
   "metadata": {},
   "outputs": [
    {
     "data": {
      "text/plain": [
       "array([[1, 2, 3, 1, 2, 3],\n",
       "       [4, 5, 6, 4, 5, 6]])"
      ]
     },
     "execution_count": 119,
     "metadata": {},
     "output_type": "execute_result"
    }
   ],
   "source": [
    "np.hstack([arr2,arr2]) #hstack(horizontal stack)=axis1"
   ]
  },
  {
   "cell_type": "markdown",
   "id": "6d73219e",
   "metadata": {},
   "source": [
    "---\n",
    "### Numpy 배열 객체의 내장 함수 사용\n",
    "- 빠른 연산이 가능한 vectorize function(벡터화 함수)\n",
    "- ufunction(universal function) 사용 권장\n",
    "---"
   ]
  },
  {
   "cell_type": "code",
   "execution_count": 122,
   "id": "d1730c3b",
   "metadata": {},
   "outputs": [
    {
     "data": {
      "text/plain": [
       "array([[6, 1, 4, 4],\n",
       "       [8, 4, 6, 3],\n",
       "       [5, 8, 7, 9]])"
      ]
     },
     "execution_count": 122,
     "metadata": {},
     "output_type": "execute_result"
    }
   ],
   "source": [
    "np.random.seed(0)\n",
    "\n",
    "arr2 = np.random.randint(1,10,(3,4))#1~10사이 랜덤 정수 3행 4열\n",
    "arr2"
   ]
  },
  {
   "cell_type": "code",
   "execution_count": 123,
   "id": "5f002092",
   "metadata": {},
   "outputs": [
    {
     "data": {
      "text/plain": [
       "(65, 65)"
      ]
     },
     "execution_count": 123,
     "metadata": {},
     "output_type": "execute_result"
    }
   ],
   "source": [
    "np.sum(arr2), arr2.sum() #두가지 다 같은 방식 모든 정수를 더한다"
   ]
  },
  {
   "cell_type": "markdown",
   "id": "1ed2ba08",
   "metadata": {},
   "source": [
    "이 때 행의 방향과 열의 방향으로 더하고 싶다면 axis를 지정해 주어야 한다."
   ]
  },
  {
   "cell_type": "code",
   "execution_count": 124,
   "id": "ee6a664a",
   "metadata": {},
   "outputs": [
    {
     "data": {
      "text/plain": [
       "array([19, 13, 17, 16])"
      ]
     },
     "execution_count": 124,
     "metadata": {},
     "output_type": "execute_result"
    }
   ],
   "source": [
    "np.sum(arr2, axis=0) #axis 0의 방향 즉 열 방향으로 sum의 정보 구성이 됨"
   ]
  },
  {
   "cell_type": "code",
   "execution_count": 127,
   "id": "53f28ae1",
   "metadata": {},
   "outputs": [
    {
     "data": {
      "text/plain": [
       "array([19, 13, 17, 16])"
      ]
     },
     "execution_count": 127,
     "metadata": {},
     "output_type": "execute_result"
    }
   ],
   "source": [
    "arr2.sum(axis=0)"
   ]
  },
  {
   "cell_type": "code",
   "execution_count": 129,
   "id": "a62b080d",
   "metadata": {},
   "outputs": [
    {
     "data": {
      "text/plain": [
       "array([15, 21, 29])"
      ]
     },
     "execution_count": 129,
     "metadata": {},
     "output_type": "execute_result"
    }
   ],
   "source": [
    "arr2.sum(axis=1) # axis 1의 방향 즉 행 방향으로 sum의 정보 구성이 됨"
   ]
  },
  {
   "cell_type": "code",
   "execution_count": 131,
   "id": "d7b64b93",
   "metadata": {},
   "outputs": [
    {
     "data": {
      "text/plain": [
       "(array([5, 1, 4, 3]), array([8, 8, 7, 9]))"
      ]
     },
     "execution_count": 131,
     "metadata": {},
     "output_type": "execute_result"
    }
   ],
   "source": [
    "np.min(arr2, axis=0), np.max(arr2, axis=0)# axis 0은 열의 개수 만큼 나와야 한다"
   ]
  },
  {
   "cell_type": "code",
   "execution_count": 132,
   "id": "160084bd",
   "metadata": {},
   "outputs": [
    {
     "data": {
      "text/plain": [
       "(array([1, 3, 5]), array([6, 8, 9]))"
      ]
     },
     "execution_count": 132,
     "metadata": {},
     "output_type": "execute_result"
    }
   ],
   "source": [
    "np.min(arr2, axis=1), np.max(arr2, axis=1)# axis 1은 행의 개수 만큼 나와야 한다"
   ]
  },
  {
   "cell_type": "markdown",
   "id": "cfc56841",
   "metadata": {},
   "source": [
    "---\n",
    "### Numpy 배열 객체와 브로드캐스팅\n",
    "- 행과 열의 정보가 일치해야 같은 위치끼리 연산 가능\n",
    "- 행열 연산을 하기 위해선 크기가 맞춰져야 한다.(shape)\n",
    "- 행열 구조를 동일하게 맞춰주는 과정을 브로드캐스팅이라 한다\n",
    "---"
   ]
  },
  {
   "cell_type": "code",
   "execution_count": 134,
   "id": "43f28762",
   "metadata": {},
   "outputs": [
    {
     "data": {
      "text/plain": [
       "array([[0.5488135 , 0.71518937, 0.60276338],\n",
       "       [0.54488318, 0.4236548 , 0.64589411],\n",
       "       [0.43758721, 0.891773  , 0.96366276],\n",
       "       [0.38344152, 0.79172504, 0.52889492],\n",
       "       [0.56804456, 0.92559664, 0.07103606],\n",
       "       [0.0871293 , 0.0202184 , 0.83261985],\n",
       "       [0.77815675, 0.87001215, 0.97861834],\n",
       "       [0.79915856, 0.46147936, 0.78052918],\n",
       "       [0.11827443, 0.63992102, 0.14335329],\n",
       "       [0.94466892, 0.52184832, 0.41466194]])"
      ]
     },
     "execution_count": 134,
     "metadata": {},
     "output_type": "execute_result"
    }
   ],
   "source": [
    "np.random.seed(0)\n",
    "\n",
    "X = np.random.random((10,3))# random = 0 ~ 1 사이의 값 10행3열 구조 \n",
    "X"
   ]
  },
  {
   "cell_type": "code",
   "execution_count": 138,
   "id": "cc39f74c",
   "metadata": {},
   "outputs": [
    {
     "data": {
      "text/plain": [
       "array([0.52101579, 0.62614181, 0.59620338])"
      ]
     },
     "execution_count": 138,
     "metadata": {},
     "output_type": "execute_result"
    }
   ],
   "source": [
    "Xmean = X.mean(axis=0)\n",
    "Xmean # Xmean의 구조는 1행 3열"
   ]
  },
  {
   "cell_type": "code",
   "execution_count": 139,
   "id": "91d9eef3",
   "metadata": {},
   "outputs": [
    {
     "data": {
      "text/plain": [
       "array([[ 0.02779771,  0.08904756,  0.00655999],\n",
       "       [ 0.02386739, -0.20248701,  0.04969073],\n",
       "       [-0.08342858,  0.26563119,  0.36745938],\n",
       "       [-0.13757427,  0.16558323, -0.06730846],\n",
       "       [ 0.04702877,  0.29945483, -0.52516732],\n",
       "       [-0.43388649, -0.60592341,  0.23641646],\n",
       "       [ 0.25714096,  0.24387034,  0.38241496],\n",
       "       [ 0.27814277, -0.16466245,  0.18432579],\n",
       "       [-0.40274137,  0.01377921, -0.45285009],\n",
       "       [ 0.42365312, -0.10429349, -0.18154144]])"
      ]
     },
     "execution_count": 139,
     "metadata": {},
     "output_type": "execute_result"
    }
   ],
   "source": [
    "Xcentered = X - Xmean # X는 10행3열 - Xmean 1행 3열\n",
    "#1행 3열이 9개가 복제되서 계산됨 -> 브로드캐스팅\n",
    "Xcentered"
   ]
  },
  {
   "cell_type": "markdown",
   "id": "2f6a0df7",
   "metadata": {},
   "source": [
    "열의 평균을 구하고 그걸 뺀다 -> 중심이 이동한다  \n",
    "평균을 중심으로 이동시킨다 -> 평균 중심화 예제이다  \n",
    "...무슨소린지 모르겠음"
   ]
  },
  {
   "cell_type": "markdown",
   "id": "921e234a",
   "metadata": {},
   "source": [
    "---\n",
    "### 부울 배열을 이용한 마스킹 연산\n",
    "- 조건을 만족하는 데이터를 찾아낼 수 있다\n",
    "---"
   ]
  },
  {
   "cell_type": "code",
   "execution_count": 141,
   "id": "534dffc4",
   "metadata": {},
   "outputs": [
    {
     "data": {
      "text/plain": [
       "array([[5, 0, 3, 3],\n",
       "       [7, 9, 3, 5],\n",
       "       [2, 4, 7, 6]])"
      ]
     },
     "execution_count": 141,
     "metadata": {},
     "output_type": "execute_result"
    }
   ],
   "source": [
    "np.random.seed(0)\n",
    "\n",
    "X = np.random.randint(0, 10, size=(3,4))\n",
    "X"
   ]
  },
  {
   "cell_type": "code",
   "execution_count": 142,
   "id": "b64dbf23",
   "metadata": {},
   "outputs": [
    {
     "data": {
      "text/plain": [
       "array([[False, False, False, False],\n",
       "       [ True, False, False, False],\n",
       "       [False, False,  True,  True]])"
      ]
     },
     "execution_count": 142,
     "metadata": {},
     "output_type": "execute_result"
    }
   ],
   "source": [
    "(X > 5) & (X < 8) # 조건을 만족하는 배열 구성 -> 3행 4열 짜리의 배열을 자동으로 만듬"
   ]
  },
  {
   "cell_type": "code",
   "execution_count": 143,
   "id": "6329415f",
   "metadata": {},
   "outputs": [
    {
     "data": {
      "text/plain": [
       "3"
      ]
     },
     "execution_count": 143,
     "metadata": {},
     "output_type": "execute_result"
    }
   ],
   "source": [
    "np.sum((X > 5) & (X < 8)) # True가 3개"
   ]
  },
  {
   "cell_type": "code",
   "execution_count": 144,
   "id": "160f2aaa",
   "metadata": {},
   "outputs": [
    {
     "data": {
      "text/plain": [
       "12"
      ]
     },
     "execution_count": 144,
     "metadata": {},
     "output_type": "execute_result"
    }
   ],
   "source": [
    "np.sum((X > 5) | (X < 8)) # 3행 4열 12개의 원소가 모두 true"
   ]
  },
  {
   "cell_type": "code",
   "execution_count": 146,
   "id": "67fbb654",
   "metadata": {},
   "outputs": [
    {
     "data": {
      "text/plain": [
       "array([1, 0, 1, 1])"
      ]
     },
     "execution_count": 146,
     "metadata": {},
     "output_type": "execute_result"
    }
   ],
   "source": [
    "np.sum((X > 5) & (X < 8), axis=0)# 적용할 방향 지정 "
   ]
  },
  {
   "cell_type": "code",
   "execution_count": 147,
   "id": "65c2c7ab",
   "metadata": {},
   "outputs": [
    {
     "data": {
      "text/plain": [
       "array([0, 1, 2])"
      ]
     },
     "execution_count": 147,
     "metadata": {},
     "output_type": "execute_result"
    }
   ],
   "source": [
    "np.sum((X > 5) & (X < 8), axis=1)"
   ]
  },
  {
   "cell_type": "code",
   "execution_count": 149,
   "id": "d836bd71",
   "metadata": {},
   "outputs": [
    {
     "data": {
      "text/plain": [
       "array([7, 7, 6])"
      ]
     },
     "execution_count": 149,
     "metadata": {},
     "output_type": "execute_result"
    }
   ],
   "source": [
    "X[(X > 5) & (X < 8)] #어떤 데이터가 조건에 부합하는지 불 배열과 마스킹 연산으로 \n",
    "                    #추출하는 방법 "
   ]
  },
  {
   "cell_type": "markdown",
   "id": "9b700b8a",
   "metadata": {},
   "source": [
    "---\n",
    "### Numpy 배열 객체와 팬시 인덱싱\n",
    "- 인덱스를 담고 있는 배열\n",
    "- 인덱스 배열을 전달하게 되면 인덱스에 해당하는 데이터 추출 가능\n",
    "---"
   ]
  },
  {
   "cell_type": "code",
   "execution_count": 152,
   "id": "dc36571c",
   "metadata": {},
   "outputs": [
    {
     "data": {
      "text/plain": [
       "array([[ 0,  1,  2,  3],\n",
       "       [ 4,  5,  6,  7],\n",
       "       [ 8,  9, 10, 11]])"
      ]
     },
     "execution_count": 152,
     "metadata": {},
     "output_type": "execute_result"
    }
   ],
   "source": [
    "X = np.arange(12).reshape((3,4))\n",
    "X"
   ]
  },
  {
   "cell_type": "code",
   "execution_count": 157,
   "id": "4b2dcbb8",
   "metadata": {},
   "outputs": [
    {
     "data": {
      "text/plain": [
       "array([[ 0,  1,  2,  3],\n",
       "       [ 4,  5,  6,  7],\n",
       "       [ 8,  9, 10, 11]])"
      ]
     },
     "execution_count": 157,
     "metadata": {},
     "output_type": "execute_result"
    }
   ],
   "source": [
    "row = np.array([0, 1 ,2])\n",
    "col = np.array([1, 2, 3])\n",
    "X[row]#X에 0,1,2라는 인덱싱을 줘서 1,2.3행의 결과 값이 추출"
   ]
  },
  {
   "cell_type": "code",
   "execution_count": 160,
   "id": "2c180edc",
   "metadata": {},
   "outputs": [
    {
     "data": {
      "text/plain": [
       "array([[ 1,  2,  3],\n",
       "       [ 5,  6,  7],\n",
       "       [ 9, 10, 11]])"
      ]
     },
     "execution_count": 160,
     "metadata": {},
     "output_type": "execute_result"
    }
   ],
   "source": [
    "X[:,col] #index0이 빠진 1,2.3 즉 2,3.4열이 추출된다"
   ]
  },
  {
   "cell_type": "code",
   "execution_count": 166,
   "id": "58cd249f",
   "metadata": {},
   "outputs": [
    {
     "data": {
      "text/plain": [
       "array([ 1,  6, 11])"
      ]
     },
     "execution_count": 166,
     "metadata": {},
     "output_type": "execute_result"
    }
   ],
   "source": [
    "X[row,col] #0행1열 1행2열 2행3열 값 추출"
   ]
  },
  {
   "cell_type": "code",
   "execution_count": 168,
   "id": "bcce7d1a",
   "metadata": {},
   "outputs": [
    {
     "data": {
      "text/plain": [
       "array([[ 1,  2,  3],\n",
       "       [ 5,  6,  7],\n",
       "       [ 9, 10, 11]])"
      ]
     },
     "execution_count": 168,
     "metadata": {},
     "output_type": "execute_result"
    }
   ],
   "source": [
    "X[row.reshape(-1,1),col] #reshape을 이용해 구조를 변환해도 동일한 결과값을 내는 \n",
    "                        #팬싱 인덱싱"
   ]
  },
  {
   "cell_type": "markdown",
   "id": "5a03673b",
   "metadata": {},
   "source": [
    "---\n",
    "### Numpy 배열 객체와 복합 인덱싱\n",
    "- 부분 집합을 찾아내는 연산이다\n",
    "---\n"
   ]
  },
  {
   "cell_type": "code",
   "execution_count": 171,
   "id": "e46f009c",
   "metadata": {},
   "outputs": [
    {
     "data": {
      "text/plain": [
       "array([[0., 0., 0., 0.],\n",
       "       [0., 0., 0., 0.],\n",
       "       [0., 0., 0., 0.]])"
      ]
     },
     "execution_count": 171,
     "metadata": {},
     "output_type": "execute_result"
    }
   ],
   "source": [
    "X = np.zeros(12).reshape((3,4)) #제로로 초기화된 3행 4열\n",
    "X"
   ]
  },
  {
   "cell_type": "code",
   "execution_count": 172,
   "id": "d1d30b9d",
   "metadata": {},
   "outputs": [
    {
     "data": {
      "text/plain": [
       "array([[0., 0., 0., 0.],\n",
       "       [1., 0., 0., 0.],\n",
       "       [0., 0., 0., 0.]])"
      ]
     },
     "execution_count": 172,
     "metadata": {},
     "output_type": "execute_result"
    }
   ],
   "source": [
    "X[1, 0] = 1 # 2행 1열에 데이터값 입력\n",
    "X"
   ]
  },
  {
   "cell_type": "code",
   "execution_count": 175,
   "id": "a281950a",
   "metadata": {},
   "outputs": [
    {
     "data": {
      "text/plain": [
       "array([[0., 0., 0., 0.],\n",
       "       [1., 1., 0., 1.],\n",
       "       [0., 0., 0., 0.]])"
      ]
     },
     "execution_count": 175,
     "metadata": {},
     "output_type": "execute_result"
    }
   ],
   "source": [
    "X[1,[1,3]] = 1 #2행 2열4열 1으로 데이터값 입력\n",
    "X"
   ]
  },
  {
   "cell_type": "code",
   "execution_count": 177,
   "id": "4d37abfd",
   "metadata": {},
   "outputs": [
    {
     "data": {
      "text/plain": [
       "array([[0., 2., 0., 0.],\n",
       "       [1., 1., 0., 1.],\n",
       "       [0., 0., 0., 2.]])"
      ]
     },
     "execution_count": 177,
     "metadata": {},
     "output_type": "execute_result"
    }
   ],
   "source": [
    "X[[0,2],[1,3]] = 2 # 1행 2열 3행 4열에 2 입력 (팬싱 인덱싱)\n",
    "X"
   ]
  },
  {
   "cell_type": "code",
   "execution_count": 179,
   "id": "73d64b5d",
   "metadata": {},
   "outputs": [
    {
     "data": {
      "text/plain": [
       "array([[9., 2., 9., 0.],\n",
       "       [9., 1., 9., 1.],\n",
       "       [9., 0., 9., 2.]])"
      ]
     },
     "execution_count": 179,
     "metadata": {},
     "output_type": "execute_result"
    }
   ],
   "source": [
    "X[0:3,[0,2]]=9 #팬시 인덱싱 + 슬라이싱 범위 집합 추출\n",
    "#전체 행에서 1열과 3열에 9를 집어 넣는게 된다\n",
    "X"
   ]
  },
  {
   "cell_type": "markdown",
   "id": "4f18cade",
   "metadata": {},
   "source": [
    "---\n",
    "### Numpy 배열 객체의 정렬\n",
    "- 정렬 기능을 내장하고 있다\n",
    "---"
   ]
  },
  {
   "cell_type": "code",
   "execution_count": 184,
   "id": "9033494a",
   "metadata": {},
   "outputs": [
    {
     "data": {
      "text/plain": [
       "array([5, 0, 3, 3, 7])"
      ]
     },
     "execution_count": 184,
     "metadata": {},
     "output_type": "execute_result"
    }
   ],
   "source": [
    "np.random.seed(0)\n",
    "\n",
    "x = np.array(np.random.randint(10, size=5))#0~9사이의 값을 5개 \n",
    "x"
   ]
  },
  {
   "cell_type": "code",
   "execution_count": 185,
   "id": "c2324742",
   "metadata": {},
   "outputs": [
    {
     "data": {
      "text/plain": [
       "array([0, 3, 3, 5, 7])"
      ]
     },
     "execution_count": 185,
     "metadata": {},
     "output_type": "execute_result"
    }
   ],
   "source": [
    "np.sort(x) #x는 바뀌지 않고 정렬된 array 반환"
   ]
  },
  {
   "cell_type": "code",
   "execution_count": 188,
   "id": "be44cac3",
   "metadata": {},
   "outputs": [
    {
     "data": {
      "text/plain": [
       "array([0, 3, 3, 5, 7])"
      ]
     },
     "execution_count": 188,
     "metadata": {},
     "output_type": "execute_result"
    }
   ],
   "source": [
    "x.sort() #x의 값이 정렬된 상태로 변경\n",
    "x"
   ]
  },
  {
   "cell_type": "code",
   "execution_count": 190,
   "id": "41d8c75a",
   "metadata": {},
   "outputs": [
    {
     "data": {
      "text/plain": [
       "array([5, 0, 3, 3, 7])"
      ]
     },
     "execution_count": 190,
     "metadata": {},
     "output_type": "execute_result"
    }
   ],
   "source": [
    "np.random.seed(0)\n",
    "\n",
    "x= np.array(np.random.randint(10, size=5))\n",
    "x"
   ]
  },
  {
   "cell_type": "code",
   "execution_count": 193,
   "id": "3172bb50",
   "metadata": {},
   "outputs": [
    {
     "data": {
      "text/plain": [
       "array([1, 2, 3, 0, 4], dtype=int64)"
      ]
     },
     "execution_count": 193,
     "metadata": {},
     "output_type": "execute_result"
    }
   ],
   "source": [
    "idx = np.argsort(x)#sort된 인덱스를 전달하는 argsort함수\n",
    "idx"
   ]
  },
  {
   "cell_type": "code",
   "execution_count": 195,
   "id": "9ec5aa90",
   "metadata": {},
   "outputs": [
    {
     "data": {
      "text/plain": [
       "array([0, 3, 3, 5, 7])"
      ]
     },
     "execution_count": 195,
     "metadata": {},
     "output_type": "execute_result"
    }
   ],
   "source": [
    "x[idx]#팬시 인덱싱을 이용해 정렬도 가능"
   ]
  },
  {
   "cell_type": "code",
   "execution_count": null,
   "id": "733679df",
   "metadata": {},
   "outputs": [],
   "source": []
  }
 ],
 "metadata": {
  "kernelspec": {
   "display_name": "Python 3",
   "language": "python",
   "name": "python3"
  },
  "language_info": {
   "codemirror_mode": {
    "name": "ipython",
    "version": 3
   },
   "file_extension": ".py",
   "mimetype": "text/x-python",
   "name": "python",
   "nbconvert_exporter": "python",
   "pygments_lexer": "ipython3",
   "version": "3.8.8"
  }
 },
 "nbformat": 4,
 "nbformat_minor": 5
}
