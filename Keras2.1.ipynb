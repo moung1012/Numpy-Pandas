{
 "cells": [
  {
   "cell_type": "code",
   "execution_count": 98,
   "id": "b76643b8",
   "metadata": {},
   "outputs": [],
   "source": [
    "from keras.datasets import mnist\n",
    "(train_images, train_labels), (test_images,test_labels) = mnist.load_data()"
   ]
  },
  {
   "cell_type": "markdown",
   "id": "26333c29",
   "metadata": {},
   "source": [
    "- Mnist 데이터셋은 넘파이 배열의 형태로 케라스에 이미 포함되어 있다\n",
    "- mnist 문제를 알고리즘이 제대로 작동하는지 확인하기 위한 딥러닝계의 \"hello world\"이다\n",
    "- 모델이 학습해야될 훈련세트 구성"
   ]
  },
  {
   "cell_type": "code",
   "execution_count": 99,
   "id": "7ed41a07",
   "metadata": {},
   "outputs": [
    {
     "data": {
      "text/plain": [
       "(60000, 28, 28)"
      ]
     },
     "execution_count": 99,
     "metadata": {},
     "output_type": "execute_result"
    }
   ],
   "source": [
    "train_images.shape"
   ]
  },
  {
   "cell_type": "code",
   "execution_count": 100,
   "id": "9827e51e",
   "metadata": {},
   "outputs": [
    {
     "data": {
      "text/plain": [
       "array([5, 0, 4, ..., 5, 6, 8], dtype=uint8)"
      ]
     },
     "execution_count": 100,
     "metadata": {},
     "output_type": "execute_result"
    }
   ],
   "source": [
    "train_labels"
   ]
  },
  {
   "cell_type": "code",
   "execution_count": 101,
   "id": "fc724755",
   "metadata": {},
   "outputs": [
    {
     "data": {
      "text/plain": [
       "(10000, 28, 28)"
      ]
     },
     "execution_count": 101,
     "metadata": {},
     "output_type": "execute_result"
    }
   ],
   "source": [
    "test_images.shape"
   ]
  },
  {
   "cell_type": "code",
   "execution_count": 102,
   "id": "4803b2c4",
   "metadata": {},
   "outputs": [
    {
     "data": {
      "text/plain": [
       "array([7, 2, 1, ..., 4, 5, 6], dtype=uint8)"
      ]
     },
     "execution_count": 102,
     "metadata": {},
     "output_type": "execute_result"
    }
   ],
   "source": [
    "test_labels"
   ]
  },
  {
   "cell_type": "markdown",
   "id": "f215c9c5",
   "metadata": {},
   "source": [
    "1. train_images와 train_labels를 네트워크에 주입\n",
    "    - 네트워크는 이미지와 레이블을 연관시킬 수 있도록 학습된다\n",
    "2. test_images에 대한 예측을 네트워크에 요청\n",
    "    - 이 예측이 맞는지 test_labels확인 한다"
   ]
  },
  {
   "cell_type": "code",
   "execution_count": 103,
   "id": "45757498",
   "metadata": {},
   "outputs": [],
   "source": [
    "from keras import models\n",
    "from keras import layers\n",
    "\n",
    "network = models.Sequential()\n",
    "network.add(layers.Dense(512, activation='relu', input_shape=(28 * 28,)))\n",
    "network.add(layers.Dense(10,activation='softmax'))"
   ]
  },
  {
   "cell_type": "markdown",
   "id": "6bf721c5",
   "metadata": {},
   "source": [
    "- 신경망의 핵심 구성요소는 일종의 데이터 처리 필터라고 생각할 수 있는 층(layer)이다\n",
    "- 어떤 데이터가 들어가면 더 유용한 형태로 출력된다\n",
    "- 구체적으로 층은 주어진 문제에 더 의미있는 표현을 입력 데이터로부터 추출한다\n",
    "- 이 예에서는 조밀하게 연결된 신경망 층인 Dense 층 2개가 연속되어 있다"
   ]
  },
  {
   "cell_type": "markdown",
   "id": "9a7b988d",
   "metadata": {},
   "source": [
    "---\n",
    "신경망이 훈련 준비를 마치기 위해서 컴파일 단계에 포함될 세가지가 더 필요하다\n",
    "1. 손실함수 (loss function) : 훈련 데이터에서 신경망의 성능을 측정하는 방법으로 네트워크가 옳은 방향으로 학습될 수 있도록 도와준다\n",
    "2. 옵티마이저(optimizer) : 입력된 데이터와 손실 함수를 기반으로 네트워크를 업데이트 하는 메커니즘이다\n",
    "3. 훈련과 테스트과정을 모니터링할 지표: 여기에서는 정확도만 고려한다"
   ]
  },
  {
   "cell_type": "code",
   "execution_count": 104,
   "id": "e0a3240d",
   "metadata": {},
   "outputs": [],
   "source": [
    "network.compile(optimizer='rmsprop',\n",
    "                loss='categorical_crossentropy',\n",
    "                metrics=['accuracy']) # 컴파일 단계"
   ]
  },
  {
   "cell_type": "code",
   "execution_count": 105,
   "id": "cce04da5",
   "metadata": {},
   "outputs": [],
   "source": [
    "train_images = train_images.reshape((60000,28 * 28))\n",
    "train_images = train_images.astype('float32') / 255\n",
    "\n",
    "test_images = test_images.reshape((10000, 28 * 28))\n",
    "test_images = test_images.astype('float32') / 255 # 이미지 데이터 준비하기"
   ]
  },
  {
   "cell_type": "markdown",
   "id": "77347cb1",
   "metadata": {},
   "source": [
    "데이터를 네트워크에 맞는 크기로 바꾸고 모든 값을 0과 1 사이로 스케일을 조정  \n",
    "unit8(0과255의 사이 값) ->float32(0과 1의 사이 값)으로 배열 변경"
   ]
  },
  {
   "cell_type": "code",
   "execution_count": 106,
   "id": "63e91c81",
   "metadata": {},
   "outputs": [],
   "source": [
    "import keras.utils"
   ]
  },
  {
   "cell_type": "code",
   "execution_count": 107,
   "id": "3bdea646",
   "metadata": {},
   "outputs": [],
   "source": [
    "# 레이블을 범주형으로 인코딩\n",
    "from tensorflow.keras.utils import to_categorical\n",
    "\n",
    "train_labels = to_categorical(train_labels)\n",
    "test_labels = to_categorical(test_labels)"
   ]
  },
  {
   "cell_type": "code",
   "execution_count": 108,
   "id": "e6135d05",
   "metadata": {},
   "outputs": [
    {
     "name": "stdout",
     "output_type": "stream",
     "text": [
      "Epoch 1/5\n",
      "469/469 [==============================] - 2s 4ms/step - loss: 0.2497 - accuracy: 0.9288\n",
      "Epoch 2/5\n",
      "469/469 [==============================] - 2s 4ms/step - loss: 0.1018 - accuracy: 0.9703\n",
      "Epoch 3/5\n",
      "469/469 [==============================] - 2s 4ms/step - loss: 0.0676 - accuracy: 0.9796\n",
      "Epoch 4/5\n",
      "469/469 [==============================] - 2s 4ms/step - loss: 0.0488 - accuracy: 0.9854\n",
      "Epoch 5/5\n",
      "469/469 [==============================] - 2s 4ms/step - loss: 0.0371 - accuracy: 0.9891\n"
     ]
    },
    {
     "data": {
      "text/plain": [
       "<keras.callbacks.History at 0x1a5a17ba520>"
      ]
     },
     "execution_count": 108,
     "metadata": {},
     "output_type": "execute_result"
    }
   ],
   "source": [
    "network.fit(train_images, train_labels, epochs=5, batch_size=128)"
   ]
  },
  {
   "cell_type": "markdown",
   "id": "d321acc2",
   "metadata": {},
   "source": [
    "- 케라스에서 fit 메서드를 호출하여 훈련 데이터에 모델을 학습\n",
    "    - 훈련하는 동안 2개의 정보가 출력된다. 네트워크의 손실과 정확도"
   ]
  },
  {
   "cell_type": "code",
   "execution_count": 109,
   "id": "f24607d9",
   "metadata": {},
   "outputs": [
    {
     "name": "stdout",
     "output_type": "stream",
     "text": [
      "313/313 [==============================] - 0s 548us/step - loss: 0.0729 - accuracy: 0.9784\n"
     ]
    }
   ],
   "source": [
    "test_loss, test_acc = network.evaluate(test_images,test_labels)"
   ]
  },
  {
   "cell_type": "markdown",
   "id": "21f7e7b5",
   "metadata": {},
   "source": [
    "테스트 세트의 정확도는 97.8%로 훈련 세트보다 정확도가 약간은 낮다\n",
    "- 훈련 정확도와 테스트 정확도 사이의 차이는 과대적합(overfitting)때문\n"
   ]
  },
  {
   "cell_type": "code",
   "execution_count": null,
   "id": "ae21028a",
   "metadata": {},
   "outputs": [],
   "source": []
  }
 ],
 "metadata": {
  "kernelspec": {
   "display_name": "Python 3",
   "language": "python",
   "name": "python3"
  },
  "language_info": {
   "codemirror_mode": {
    "name": "ipython",
    "version": 3
   },
   "file_extension": ".py",
   "mimetype": "text/x-python",
   "name": "python",
   "nbconvert_exporter": "python",
   "pygments_lexer": "ipython3",
   "version": "3.8.8"
  }
 },
 "nbformat": 4,
 "nbformat_minor": 5
}
