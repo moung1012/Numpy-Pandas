{
 "cells": [
  {
   "cell_type": "markdown",
   "id": "9bce8668",
   "metadata": {},
   "source": [
    "## 첫 번째 예제 다시 살펴보기"
   ]
  },
  {
   "cell_type": "markdown",
   "id": "415bc169",
   "metadata": {},
   "source": [
    "from keras.datasets import mnist\n",
    "(train_images, train_labels), (test_images, test_labels) = mnist.load_data()"
   ]
  },
  {
   "cell_type": "markdown",
   "id": "fff38f58",
   "metadata": {},
   "source": [
    "train_images = train_images.reshape(( 60000, 28 * 28))\n",
    "train_images = train_images.astype('float32')/255\n",
    "test_images = test_images.reshape((10000, 28 * 28))\n",
    "test_images = test_images.astype('float32')/255"
   ]
  },
  {
   "cell_type": "markdown",
   "id": "99005ec1",
   "metadata": {},
   "source": [
    "입력 이미지의 데이터 타입은 float32  \n",
    "훈련 데이터는 (60000, 784) 크기  \n",
    "테스트 데이터는 (10000, 784) 크기의 넘파이 배열로 저장된다  \n",
    "---\n",
    "신경망"
   ]
  },
  {
   "cell_type": "markdown",
   "id": "9ce5b89d",
   "metadata": {},
   "source": [
    "\n",
    "network = models.Sequential()  \n",
    "network.add(layers.Dense(512, activation='relu', input_shape(28 * 28,)))  \n",
    "network.add(layers.Dense(10, activation='softmax'))  \n",
    "\n",
    "- 이 네트워크는 2개의 Dense층이 연결 되고 각 층은 가중치 텐서를 포함하여 입력 데이터에 대한 몇개의 간단한 텐서 연산을 적용한다\n",
    "- 층의 속성인 가중치 텐서는 네트워크가 정보를 저장하는 곳이다\n"
   ]
  },
  {
   "cell_type": "markdown",
   "id": "2b69611f",
   "metadata": {},
   "source": [
    "---\n",
    "네트워크 컴파일 단계\n",
    "network.compile(optimazer='rmsprop')  \n",
    "                loss='categorical_crossentropy'\n",
    "                metrics=[accuracy'])\n",
    "---\n",
    "categorical_crossentropy는 손실함수\n",
    "- 가중치 텐서를 학습하기 위한 피드백 신호로 사용되며 훈련하는 동안 최소화 된다\n",
    "- 미니 배치 확률적 경사 하강법을 통해 손실이 감소된다\n",
    "- 구체적인 방식은 첫 번째 매개변수로 전달된 rmsprop 옵티마이저에 의해 결정된다"
   ]
  },
  {
   "cell_type": "markdown",
   "id": "a9979a02",
   "metadata": {},
   "source": [
    "---\n",
    "훈련 반복\n",
    "network.fit(train_images, train_labels, epochs=5, vatch_size=128)  \n",
    "---\n",
    "fit 메소드를 호출했을 때\n",
    "1. 네트워크가 128개 샘플식 미니 배치로 훈련데이터를 다섯 번 반복\n",
    "    - 전체 훈련 데이터에 수행되는 각 반복을 에포크(epoch)라고 함\n",
    "2. 각 반복마다 네트워크가 배치에서 손실에 대한 가중치의 그래디언트를 계산하고 그에 맞추어 가중치를 업데이트\n",
    "3. 다섯 번의 에포크 동안 네트워크는 2,345번의 그래디언트 업데이트를 수행한다\n",
    "    - 에포크마다 469번\n",
    "    - 훈련 샘플이 6만 개이므로 128개씩 배치로 나누면 469개의 배치가 만들어지며 마지막 배치의 샘플 개수는 96개가 된다."
   ]
  },
  {
   "cell_type": "code",
   "execution_count": null,
   "id": "52740c47",
   "metadata": {},
   "outputs": [],
   "source": []
  }
 ],
 "metadata": {
  "kernelspec": {
   "display_name": "Python 3",
   "language": "python",
   "name": "python3"
  },
  "language_info": {
   "codemirror_mode": {
    "name": "ipython",
    "version": 3
   },
   "file_extension": ".py",
   "mimetype": "text/x-python",
   "name": "python",
   "nbconvert_exporter": "python",
   "pygments_lexer": "ipython3",
   "version": "3.8.8"
  }
 },
 "nbformat": 4,
 "nbformat_minor": 5
}
