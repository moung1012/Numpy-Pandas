{
 "cells": [
  {
   "cell_type": "markdown",
   "id": "82ae5c59",
   "metadata": {},
   "source": [
    "### 신경망을 위한 데이터 표현\n",
    "- 텐서(tensor)라 부르는 다차원 넘파이 베열에 데이터를 저장하는 것"
   ]
  },
  {
   "cell_type": "markdown",
   "id": "65b67b70",
   "metadata": {},
   "source": [
    "---\n",
    "스칼라(0D 텐서)\n",
    "- 하나의 숫자만을 담고 있는 텐서를 스칼라라고 부른다\n",
    "- 넘파이에서는 float32나 float64 타입의 숫자가 스칼라 텐서이다\n",
    "- ndim 속성을 사용하면 넘파이 배열의 축 개수를 확인할 수 있다"
   ]
  },
  {
   "cell_type": "code",
   "execution_count": 1,
   "id": "fce4decf",
   "metadata": {},
   "outputs": [],
   "source": [
    "import numpy as np\n",
    "x = np.array(12)"
   ]
  },
  {
   "cell_type": "code",
   "execution_count": 2,
   "id": "a2646095",
   "metadata": {},
   "outputs": [
    {
     "data": {
      "text/plain": [
       "array(12)"
      ]
     },
     "execution_count": 2,
     "metadata": {},
     "output_type": "execute_result"
    }
   ],
   "source": [
    "x"
   ]
  },
  {
   "cell_type": "code",
   "execution_count": 3,
   "id": "f12c91ee",
   "metadata": {},
   "outputs": [
    {
     "data": {
      "text/plain": [
       "0"
      ]
     },
     "execution_count": 3,
     "metadata": {},
     "output_type": "execute_result"
    }
   ],
   "source": [
    "x.ndim"
   ]
  },
  {
   "cell_type": "markdown",
   "id": "15ae9078",
   "metadata": {},
   "source": [
    "---\n",
    "벡터(1D 텐서)\n",
    "- 5개의 원소를 가지고 있으므로 5차원 벡터라고 부른다\n",
    "- 5D 벡터와 5D 텐서를 혼동하지 말자\n",
    "    - 5D 벡터는 1개의 축을 따라 5개의 차원을 가진것\n",
    "    - 5D텐서는 5개의 축을 가진 것 "
   ]
  },
  {
   "cell_type": "code",
   "execution_count": 5,
   "id": "37215227",
   "metadata": {},
   "outputs": [
    {
     "data": {
      "text/plain": [
       "array([12,  3,  6, 14,  7])"
      ]
     },
     "execution_count": 5,
     "metadata": {},
     "output_type": "execute_result"
    }
   ],
   "source": [
    "x = np.array([12,3,6,14,7])\n",
    "x"
   ]
  },
  {
   "cell_type": "code",
   "execution_count": 7,
   "id": "4e7ad68b",
   "metadata": {},
   "outputs": [
    {
     "data": {
      "text/plain": [
       "1"
      ]
     },
     "execution_count": 7,
     "metadata": {},
     "output_type": "execute_result"
    }
   ],
   "source": [
    "x.ndim"
   ]
  },
  {
   "cell_type": "markdown",
   "id": "bd2fb740",
   "metadata": {},
   "source": [
    "---\n",
    "행렬(2D텐서)\n",
    "- 벡터의 배열이 행렬 또는 2D텐서이다\n",
    "- 행렬에는 2개의 축이 존재 (보통은 행과 열)"
   ]
  },
  {
   "cell_type": "code",
   "execution_count": 10,
   "id": "629c8559",
   "metadata": {},
   "outputs": [
    {
     "data": {
      "text/plain": [
       "array([[ 1,  2,  3,  4],\n",
       "       [ 2,  4,  5,  6],\n",
       "       [12,  4,  5,  6]])"
      ]
     },
     "execution_count": 10,
     "metadata": {},
     "output_type": "execute_result"
    }
   ],
   "source": [
    "x = np.array([[1,2,3,4],\n",
    "              [2,4,5,6],\n",
    "              [12,4,5,6]])\n",
    "x"
   ]
  },
  {
   "cell_type": "code",
   "execution_count": 11,
   "id": "986b0e4b",
   "metadata": {},
   "outputs": [
    {
     "data": {
      "text/plain": [
       "2"
      ]
     },
     "execution_count": 11,
     "metadata": {},
     "output_type": "execute_result"
    }
   ],
   "source": [
    "x.ndim"
   ]
  },
  {
   "cell_type": "markdown",
   "id": "26b8fd04",
   "metadata": {},
   "source": [
    "첫 번째 축에 놓여 있는 원소를 행이라 부르고, 두번쨰 축에 놓여있는 원소를 열이라 부른다  \n",
    "앞의 예시에 1,2,3,4가 첫번째 행이고 첫 번째 열은 1,2,12이다"
   ]
  },
  {
   "cell_type": "markdown",
   "id": "fb0fc6e4",
   "metadata": {},
   "source": [
    "---\n",
    "3D텐서와 고차원 텐서\n",
    "- 이런 행렬들을 하나의 새로운 배열로 합치면 숫자가 채워진 직육면체 형태로 해석할 수 있다\n",
    "- 넘파이에서 3D 텐서를 나타내면 다음과 같다"
   ]
  },
  {
   "cell_type": "code",
   "execution_count": 14,
   "id": "c47f7272",
   "metadata": {},
   "outputs": [
    {
     "data": {
      "text/plain": [
       "array([[[ 5, 78,  2, 34,  0],\n",
       "        [ 6, 97,  3, 35,  1],\n",
       "        [ 7, 80,  4, 36,  2]],\n",
       "\n",
       "       [[ 5, 78,  2, 34,  0],\n",
       "        [ 6, 79,  3, 35,  1],\n",
       "        [ 7, 80,  4, 36,  2]],\n",
       "\n",
       "       [[ 5, 78,  2, 34,  0],\n",
       "        [ 6, 97,  3, 35,  1],\n",
       "        [ 7, 80,  4, 36,  2]]])"
      ]
     },
     "execution_count": 14,
     "metadata": {},
     "output_type": "execute_result"
    }
   ],
   "source": [
    "x = np.array([[[5,78,2,34,0],\n",
    "              [6,97,3,35,1],\n",
    "              [7,80,4,36,2]],\n",
    "              [[5,78,2,34,0],\n",
    "             [6,79,3,35,1],\n",
    "             [7,80,4,36,2]],\n",
    "             [[5,78,2,34,0],\n",
    "             [6,97,3,35,1],\n",
    "             [7,80,4,36,2]]])\n",
    "x"
   ]
  },
  {
   "cell_type": "code",
   "execution_count": 15,
   "id": "659cc55a",
   "metadata": {},
   "outputs": [
    {
     "data": {
      "text/plain": [
       "3"
      ]
     },
     "execution_count": 15,
     "metadata": {},
     "output_type": "execute_result"
    }
   ],
   "source": [
    "x.ndim"
   ]
  },
  {
   "cell_type": "markdown",
   "id": "2d7df74f",
   "metadata": {},
   "source": [
    "---\n",
    "### 핵심 속성\n",
    "- 축의 개수(랭크) : 예를 들어 3D 텐서에는 3개의 축이 있고, 행렬에는 2개의 축이 있다 넘파이 라이브러리에서는 ndim속성에 저장되어 있다\n",
    "- 크기(shape) : 텐서의 각 축을 따라 얼마나 많은 차원이 있는지를 나타낸 파이썬의 튜플이다\n",
    "- 데이터 타입 : 텐서에 포함된 데이터의 타입"
   ]
  },
  {
   "cell_type": "code",
   "execution_count": 21,
   "id": "15e6b8b4",
   "metadata": {},
   "outputs": [],
   "source": [
    "from keras.datasets import mnist\n",
    "(train_images,train_lables),(test_images,test_labels) = mnist.load_data()"
   ]
  },
  {
   "cell_type": "code",
   "execution_count": 23,
   "id": "acfaa3d5",
   "metadata": {},
   "outputs": [
    {
     "name": "stdout",
     "output_type": "stream",
     "text": [
      "3\n"
     ]
    }
   ],
   "source": [
    "print(train_images.ndim) #ndim 속성으로 축의 개수 확인"
   ]
  },
  {
   "cell_type": "code",
   "execution_count": 25,
   "id": "28c8dd61",
   "metadata": {},
   "outputs": [
    {
     "name": "stdout",
     "output_type": "stream",
     "text": [
      "(60000, 28, 28)\n"
     ]
    }
   ],
   "source": [
    "print(train_images.shape) # 배열의 크기"
   ]
  },
  {
   "cell_type": "code",
   "execution_count": 27,
   "id": "577131fb",
   "metadata": {},
   "outputs": [
    {
     "name": "stdout",
     "output_type": "stream",
     "text": [
      "uint8\n"
     ]
    }
   ],
   "source": [
    "print(train_images.dtype)# 데이터의 속성"
   ]
  },
  {
   "cell_type": "markdown",
   "id": "f982bc82",
   "metadata": {},
   "source": [
    "이 배열은 8비트 정수형 3D 텐서이다"
   ]
  },
  {
   "cell_type": "code",
   "execution_count": 28,
   "id": "7f4d5177",
   "metadata": {},
   "outputs": [
    {
     "data": {
      "image/png": "[encoded data removed]",
      "text/plain": [
       "<Figure size 432x288 with 1 Axes>"
      ]
     },
     "metadata": {
      "needs_background": "light"
     },
     "output_type": "display_data"
    }
   ],
   "source": [
    "#3D 텐서에서 다섯 번째 샘플을 맷플롯립 라이브러리를 사용해 확인해 보자\n",
    "digit = train_images[4]\n",
    "\n",
    "import matplotlib.pyplot as plt\n",
    "plt.imshow(digit, cmap=plt.cm.binary)\n",
    "plt.show()"
   ]
  },
  {
   "cell_type": "markdown",
   "id": "5b45b18e",
   "metadata": {},
   "source": [
    "---\n",
    "넘파이로 텐서 조작하기\n",
    "- 배열에 있는 특성 원소들을 선택하는 것을 슬라이싱이라 한다\n",
    "- 넘파이 배열에서 할 수 있는 슬라이싱 연산을 살펴보자"
   ]
  },
  {
   "cell_type": "code",
   "execution_count": 30,
   "id": "3041dfd5",
   "metadata": {},
   "outputs": [
    {
     "name": "stdout",
     "output_type": "stream",
     "text": [
      "(90, 28, 28)\n"
     ]
    }
   ],
   "source": [
    "my_slice = train_images[10:100]\n",
    "print(my_slice.shape)"
   ]
  },
  {
   "cell_type": "code",
   "execution_count": 31,
   "id": "4bf9d381",
   "metadata": {},
   "outputs": [
    {
     "data": {
      "text/plain": [
       "(90, 28, 28)"
      ]
     },
     "execution_count": 31,
     "metadata": {},
     "output_type": "execute_result"
    }
   ],
   "source": [
    "my_slice = train_images[10:100,:,:]\n",
    "my_slice.shape # 위와 같다"
   ]
  },
  {
   "cell_type": "code",
   "execution_count": 34,
   "id": "54b36bf7",
   "metadata": {},
   "outputs": [
    {
     "data": {
      "text/plain": [
       "(90, 28, 28)"
      ]
     },
     "execution_count": 34,
     "metadata": {},
     "output_type": "execute_result"
    }
   ],
   "source": [
    "my_slice = train_images[10:100,0:28,0:28]\n",
    "my_slice.shape # 위와 같다"
   ]
  },
  {
   "cell_type": "code",
   "execution_count": 36,
   "id": "ced9925a",
   "metadata": {},
   "outputs": [
    {
     "data": {
      "text/plain": [
       "(60000, 14, 14)"
      ]
     },
     "execution_count": 36,
     "metadata": {},
     "output_type": "execute_result"
    }
   ],
   "source": [
    "my_slice = train_images[:,14:,14:]\n",
    "# 각 배열의 축을 따라 어떤 인덱스 사이도 선택할 수 있다\n",
    "#이미지의 오른쪽 아래 14 * 14픽셀 선택\n",
    "my_slice.shape"
   ]
  },
  {
   "cell_type": "code",
   "execution_count": 39,
   "id": "b3a2a712",
   "metadata": {},
   "outputs": [
    {
     "data": {
      "text/plain": [
       "(60000, 14, 14)"
      ]
     },
     "execution_count": 39,
     "metadata": {},
     "output_type": "execute_result"
    }
   ],
   "source": [
    "my_slice = train_images[:,7:-7,7:-7]\n",
    "my_slice.shape\n",
    "#음수 인덱스도 사용 가능 \n",
    "#파이썬 리스트의 음수 인덱스와 마찬가지로 현재 축의 끝에서 상대적인 위치를 나타낸다"
   ]
  },
  {
   "cell_type": "markdown",
   "id": "c6c6a87f",
   "metadata": {},
   "source": [
    "---\n",
    "배치 데이터\n",
    "- 딥러닝에서 사용하는 모든 데이터 텐서의 첫 번째 축은 샘플 축(sample axis)이다\n",
    "- MNIST 예제에서는 숫자가 이미지 샘플이다\n",
    "- 딥러닝 모델은 한 번에 전체 데이터셋을 처리하지 않는다 그 대신 데이터를 작은\n",
    "  배치로 나눈다"
   ]
  },
  {
   "cell_type": "code",
   "execution_count": 41,
   "id": "818aa4bf",
   "metadata": {},
   "outputs": [],
   "source": [
    "# 숫자 데이터에서 크기가 128인 배치는 다음과 같다\n",
    "batch = train_images[:128]"
   ]
  },
  {
   "cell_type": "code",
   "execution_count": 43,
   "id": "89a945ad",
   "metadata": {},
   "outputs": [],
   "source": [
    "# 그 다음 배치\n",
    "batch = train_images[128:256]"
   ]
  },
  {
   "cell_type": "markdown",
   "id": "6f8b30fa",
   "metadata": {},
   "source": [
    "n번째 배치  \n",
    "batch = train_images[128 * n:128 * (n + 1)]  \n",
    "이런 배치 데이터를 다룰 때는 첫 번째 축을 배치축 또는 배치 차원이라 부른다"
   ]
  },
  {
   "cell_type": "markdown",
   "id": "9c17055f",
   "metadata": {},
   "source": [
    "---\n",
    "### 텐서의 실제 사례\n",
    "- 벡터 데이터: (samples,features)크기의 2D 텐서\n",
    "- 시계열 데이터 또는 시퀀스(sequence)데이터: (samples,timesteps.features)크기의 3D 텐서\n",
    "- 이미지: (samples,height,width,channels) 또는 (samples.channels,height,widh) 크기의 4D 텐서\n",
    "- 동영상: (samples,frames,height,width,channels) 또는 (samples,frames,channels,height,width) 크기의 5D 텐서\n"
   ]
  },
  {
   "cell_type": "markdown",
   "id": "4aed8401",
   "metadata": {},
   "source": [
    "---\n",
    "벡터 데이터\n",
    "- 대부분의 경우에 해당된다\n",
    "- 이런 데이터셋에서는 하나의 데이터 포인트가 벡터로 인코딩될 수 있으므로 배치 데이터는 2D 텐서로 인코딩 될 것이다\n",
    "- 여기서 첫 번째 축은 샘플 축이고,두번째 축은 특성 축(feature axis)이다"
   ]
  },
  {
   "cell_type": "markdown",
   "id": "73f2aa42",
   "metadata": {},
   "source": [
    "2개의 예를 살펴보자\n",
    "1. 사람의 나이, 우편 번호, 소득으로 구성된 인구 통계 데이터\n",
    "    - 각 사람은 3개의 값을 가진 벡터로 구성되고 10만 명이 포함된 전체 데이터셋은(10000,3)크기의 텐서에 저장될 수 있다\n",
    "2. (공통 단어 2만 개로 만든 사전)각 단어가 등장한 횟수로 표현된 텍스트 문서 데이터셋\n",
    "    - 각 문서는 2만 개의 원소(단어마다 원소로 대응)를 가진 벡터로 인코딩될 수 있다\n",
    "    - 500개의 문서로 이루어진 전체 데이터셋은 (500,20000)크기의 텐서로 저장된다"
   ]
  },
  {
   "cell_type": "markdown",
   "id": "2489f89a",
   "metadata": {},
   "source": [
    "---\n",
    "### 2.2.10 시계열 데이터 또는 스퀀스 데이터\n",
    "- 데이터에서 시간이 (또는 연속된 순서가) 중요할 댸는 시간 축을 포함하여 3D 텐서로 저장된다\n",
    "- 각 샘플은 벡터 (2D 텐서)의 시퀀스가 인코딩 되므로 배치 데이터는 3D 텐서로 인코딩 된다\n",
    "- 관례적으로 시간 축은 항상 두 번째 축(인덱스가 1인 축)\n",
    "---\n"
   ]
  },
  {
   "cell_type": "markdown",
   "id": "3ff2fdb1",
   "metadata": {},
   "source": [
    "---\n",
    "### 2.2.11 이미지 데이터\n",
    "- 이미지는 전형적으로 높이, 너비, 컬러 채널의 3차원으로 이루어진다\n",
    "- 흑백이미지는 하나의 컬러 채널만을 가지고 있어 2D 텐서로 저장될 수 있지만 관례상 이미지는 항상 3D로 저장된다\n",
    "---"
   ]
  },
  {
   "cell_type": "markdown",
   "id": "4abfb488",
   "metadata": {},
   "source": [
    "---\n",
    "### 2.2.12 비디오 데이터\n",
    "- 비디오 데이터는 현실에서 5D 텐서가 필요한 몇 안 되는 데이터 중 하나이다\n",
    "- 예를 들어 60초짜리 144 X 256 유튜브 비디오 클립을 초당 4프레임으로 샘플링하면 240프레임이 된다"
   ]
  }
 ],
 "metadata": {
  "kernelspec": {
   "display_name": "Python 3",
   "language": "python",
   "name": "python3"
  },
  "language_info": {
   "codemirror_mode": {
    "name": "ipython",
    "version": 3
   },
   "file_extension": ".py",
   "mimetype": "text/x-python",
   "name": "python",
   "nbconvert_exporter": "python",
   "pygments_lexer": "ipython3",
   "version": "3.8.8"
  }
 },
 "nbformat": 4,
 "nbformat_minor": 5
}
